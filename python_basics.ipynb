{
 "cells": [
  {
   "cell_type": "markdown",
   "id": "6c19489b",
   "metadata": {},
   "source": [
    "# Operators and Operands\n",
    "\n",
    "eg: 2+2\n",
    "2,2 => Operands <br>\n",
    "\"+\" => Operators"
   ]
  },
  {
   "cell_type": "code",
   "execution_count": 1,
   "id": "e1118dd6",
   "metadata": {},
   "outputs": [],
   "source": [
    "# Variable Assignments\n",
    "a=5\n",
    "b=10\n",
    "name=\"Max\""
   ]
  },
  {
   "cell_type": "code",
   "execution_count": 2,
   "id": "ceef6e00",
   "metadata": {},
   "outputs": [
    {
     "name": "stdout",
     "output_type": "stream",
     "text": [
      "<class 'int'>\n",
      "<class 'str'>\n"
     ]
    }
   ],
   "source": [
    "#check the type of variable\n",
    "print(type(a))\n",
    "print(type(name))"
   ]
  },
  {
   "cell_type": "markdown",
   "id": "f87dab20",
   "metadata": {},
   "source": [
    "# Operators and operands: \n",
    "Operators are the special symbol that represents the computation and the values on which it is applied are operands."
   ]
  },
  {
   "cell_type": "code",
   "execution_count": 3,
   "id": "90b351cc",
   "metadata": {},
   "outputs": [
    {
     "data": {
      "text/plain": [
       "15"
      ]
     },
     "execution_count": 3,
     "metadata": {},
     "output_type": "execute_result"
    }
   ],
   "source": [
    "#Additon\n",
    "a+b"
   ]
  },
  {
   "cell_type": "code",
   "execution_count": 4,
   "id": "64d9d2ca",
   "metadata": {},
   "outputs": [
    {
     "data": {
      "text/plain": [
       "-5"
      ]
     },
     "execution_count": 4,
     "metadata": {},
     "output_type": "execute_result"
    }
   ],
   "source": [
    "#subtraction\n",
    "a-b"
   ]
  },
  {
   "cell_type": "code",
   "execution_count": 5,
   "id": "ae037b95",
   "metadata": {},
   "outputs": [
    {
     "data": {
      "text/plain": [
       "50"
      ]
     },
     "execution_count": 5,
     "metadata": {},
     "output_type": "execute_result"
    }
   ],
   "source": [
    "#multiplication\n",
    "a*b"
   ]
  },
  {
   "cell_type": "code",
   "execution_count": 6,
   "id": "0a995ce7",
   "metadata": {},
   "outputs": [
    {
     "data": {
      "text/plain": [
       "2.0"
      ]
     },
     "execution_count": 6,
     "metadata": {},
     "output_type": "execute_result"
    }
   ],
   "source": [
    "#float division\n",
    "10/a"
   ]
  },
  {
   "cell_type": "code",
   "execution_count": 7,
   "id": "87f0087f",
   "metadata": {},
   "outputs": [
    {
     "data": {
      "text/plain": [
       "2"
      ]
     },
     "execution_count": 7,
     "metadata": {},
     "output_type": "execute_result"
    }
   ],
   "source": [
    "#Integer division\n",
    "b//a"
   ]
  },
  {
   "cell_type": "code",
   "execution_count": 8,
   "id": "c01c78f1",
   "metadata": {},
   "outputs": [
    {
     "data": {
      "text/plain": [
       "100000"
      ]
     },
     "execution_count": 8,
     "metadata": {},
     "output_type": "execute_result"
    }
   ],
   "source": [
    "#Exponent operator\n",
    "b**a"
   ]
  },
  {
   "cell_type": "code",
   "execution_count": 9,
   "id": "313b9d58",
   "metadata": {},
   "outputs": [
    {
     "data": {
      "text/plain": [
       "0"
      ]
     },
     "execution_count": 9,
     "metadata": {},
     "output_type": "execute_result"
    }
   ],
   "source": [
    "#modulous operator\n",
    "b%a"
   ]
  },
  {
   "cell_type": "markdown",
   "id": "9f62f2cf",
   "metadata": {},
   "source": [
    "# String and Its Operations\n",
    "String is the sequence of characters. eg: Hamza, Shubham,ect.\n"
   ]
  },
  {
   "cell_type": "code",
   "execution_count": 10,
   "id": "302b819f",
   "metadata": {},
   "outputs": [],
   "source": [
    "name1=\"Hamza\"\n",
    "name2=\"Shubham\""
   ]
  },
  {
   "cell_type": "code",
   "execution_count": 11,
   "id": "b7610e79",
   "metadata": {},
   "outputs": [
    {
     "name": "stdout",
     "output_type": "stream",
     "text": [
      "Hamza\n"
     ]
    }
   ],
   "source": [
    "print(name1)"
   ]
  },
  {
   "cell_type": "code",
   "execution_count": 12,
   "id": "ccaf011e",
   "metadata": {},
   "outputs": [
    {
     "name": "stdout",
     "output_type": "stream",
     "text": [
      "Shubham\n"
     ]
    }
   ],
   "source": [
    "print(name2)"
   ]
  },
  {
   "cell_type": "code",
   "execution_count": 13,
   "id": "25823805",
   "metadata": {},
   "outputs": [
    {
     "name": "stdout",
     "output_type": "stream",
     "text": [
      "Good Morning Hamza Shubham\n"
     ]
    }
   ],
   "source": [
    "# String Concatenation or addition\n",
    "print(\"Good Morning \"+name1+\" \"+name2)"
   ]
  },
  {
   "cell_type": "code",
   "execution_count": 14,
   "id": "95077d06",
   "metadata": {},
   "outputs": [
    {
     "data": {
      "text/plain": [
       "'mza'"
      ]
     },
     "execution_count": 14,
     "metadata": {},
     "output_type": "execute_result"
    }
   ],
   "source": [
    "# String slicing\n",
    "# variablename[startpos:endpos:increment]\n",
    "name1[2:]"
   ]
  },
  {
   "cell_type": "code",
   "execution_count": 15,
   "id": "1ea33b37",
   "metadata": {},
   "outputs": [
    {
     "data": {
      "text/plain": [
       "'ubh'"
      ]
     },
     "execution_count": 15,
     "metadata": {},
     "output_type": "execute_result"
    }
   ],
   "source": [
    "name2[-5:-2:1]"
   ]
  },
  {
   "cell_type": "code",
   "execution_count": 16,
   "id": "edc7a18f",
   "metadata": {},
   "outputs": [
    {
     "data": {
      "text/plain": [
       "'azmaH'"
      ]
     },
     "execution_count": 16,
     "metadata": {},
     "output_type": "execute_result"
    }
   ],
   "source": [
    "# variablename[startpos:endpos:increment]\n",
    "name1[-1:-6:-1]"
   ]
  },
  {
   "cell_type": "code",
   "execution_count": 17,
   "id": "2a5fa810",
   "metadata": {},
   "outputs": [],
   "source": [
    "# How to take string inputs\n",
    "\n",
    "# name = input(\"Enter your Name:\")\n",
    "# print(\"Hey \"+name+\"!!!\")\n",
    "\n"
   ]
  },
  {
   "cell_type": "code",
   "execution_count": 18,
   "id": "0fcc46c8",
   "metadata": {},
   "outputs": [],
   "source": [
    "# # integer input\n",
    "# num1= input(\"Enter the number 1:\")\n",
    "# num2= int(input(\"Enter the number 2:\"))\n",
    "# print(type(num1))\n",
    "# print(type(num2))"
   ]
  },
  {
   "cell_type": "code",
   "execution_count": 19,
   "id": "8d90f8fa",
   "metadata": {},
   "outputs": [],
   "source": [
    "# Float Input\n",
    "# num = float(input(\"Provide your number:\"))\n",
    "# print(num)"
   ]
  },
  {
   "cell_type": "markdown",
   "id": "633ab3f8",
   "metadata": {},
   "source": [
    "# Python Data Structures or Collections\n",
    "\n",
    "Data structure means a way to organise the data to access it quickly and effciently.\n",
    "     \n",
    "        1. List (Mutable - Can be modified and updated)\n",
    "        2. Tuple (Immutable -  Can not be modified and updated)\n",
    "        3. Sets  (Mutable - Can be modified)"
   ]
  },
  {
   "cell_type": "code",
   "execution_count": 20,
   "id": "0177b608",
   "metadata": {},
   "outputs": [
    {
     "name": "stdout",
     "output_type": "stream",
     "text": [
      "[23, 25, 45, 65]\n",
      "['Sunday', 2, 'Tuesday', '3', 'Wednesday']\n"
     ]
    }
   ],
   "source": [
    "# List\n",
    "\n",
    "marks = [23,25,45,65]\n",
    "print(marks)\n",
    "days = [\"Sunday\", 2, \"Tuesday\", \"3\", \"Wednesday\"]\n",
    "print(days)"
   ]
  },
  {
   "cell_type": "code",
   "execution_count": 21,
   "id": "ed5d98b9",
   "metadata": {
    "scrolled": true
   },
   "outputs": [
    {
     "name": "stdout",
     "output_type": "stream",
     "text": [
      "23\n",
      "25\n",
      "45\n",
      "65\n",
      "65\n",
      "45\n",
      "25\n",
      "23\n"
     ]
    }
   ],
   "source": [
    "# Accessing the list values\n",
    "\n",
    "print(marks[0])\n",
    "print(marks[1])\n",
    "print(marks[2])\n",
    "print(marks[3])\n",
    "\n",
    "# List negative indexing\n",
    "\n",
    "print(marks[-1])\n",
    "print(marks[-2])\n",
    "print(marks[-3])\n",
    "print(marks[-4])"
   ]
  },
  {
   "cell_type": "code",
   "execution_count": 22,
   "id": "f8b64eaf",
   "metadata": {},
   "outputs": [
    {
     "name": "stdout",
     "output_type": "stream",
     "text": [
      "65\n",
      "65\n"
     ]
    }
   ],
   "source": [
    "print(marks[-1])\n",
    "print(marks[3])"
   ]
  },
  {
   "cell_type": "code",
   "execution_count": 23,
   "id": "eeeb89b1",
   "metadata": {},
   "outputs": [
    {
     "name": "stdout",
     "output_type": "stream",
     "text": [
      "[23, 25, 45, 4]\n",
      "[23, 6, 45, 4]\n"
     ]
    }
   ],
   "source": [
    "# modification of a list element\n",
    "\n",
    "marks[3]=4\n",
    "print(marks)\n",
    "marks[-3]=6\n",
    "print(marks)"
   ]
  },
  {
   "cell_type": "code",
   "execution_count": 24,
   "id": "8de4ffb1",
   "metadata": {},
   "outputs": [],
   "source": [
    "my_list = [\"Hey\", \"I\", \"am\", \"Hamza\", \"Learning\", \"Python\", 56, 64, 6.0, 3, 335.5]\n",
    "\n",
    "# Que => write positive and negeative both indexs to access the follwing\n",
    "    \n",
    "#     1) Hamza\n",
    "#     2) Learning\n",
    "#     3) 64\n",
    "#     4) 6.0\n",
    "#     5) am\n",
    "#     6) Python"
   ]
  },
  {
   "cell_type": "markdown",
   "id": "4238ad21",
   "metadata": {},
   "source": [
    "# tuple\n",
    "Tuple is similar to list in every manner only difference is that it is immutable(It means once it is initialized it can not be \n",
    "modified).\n",
    "\n",
    "eg: \n",
    "    my_items = (\"rugby\", \"pen\", \"box\", \"books\")"
   ]
  },
  {
   "cell_type": "code",
   "execution_count": 25,
   "id": "a62c7e86",
   "metadata": {},
   "outputs": [
    {
     "name": "stdout",
     "output_type": "stream",
     "text": [
      "rugby\n",
      "<class 'tuple'>\n"
     ]
    }
   ],
   "source": [
    "# Ways to initialize the tuple \n",
    "\n",
    "my_items = (\"rugby\", \"pen\", \"box\", \"books\")\n",
    "print(my_items[0])\n",
    "\n",
    "print(type(my_items))"
   ]
  },
  {
   "cell_type": "code",
   "execution_count": 26,
   "id": "6a3df8db",
   "metadata": {},
   "outputs": [
    {
     "name": "stdout",
     "output_type": "stream",
     "text": [
      "[23, 6, 45, 4]\n",
      "[23, 60, 45, 4, 80]\n",
      "('rugby', 'pen', 'box', 'books')\n"
     ]
    }
   ],
   "source": [
    "# difference in the list and tuple\n",
    "\n",
    "print(marks)\n",
    "marks[1] = 60\n",
    "marks.append(80)\n",
    "print(marks)\n",
    "\n",
    "# my_items.append(\"football\") => tuples can not be modified or updated\n",
    "print(my_items)\n",
    "\n"
   ]
  },
  {
   "cell_type": "markdown",
   "id": "e03d8df6",
   "metadata": {},
   "source": [
    "# Basic operation on the list using some important methods\n",
    "\n",
    "1. append()\n",
    "        This method adds up the element at the last of the list.\n",
    "        \n",
    "2. pop()\n",
    "        This method remove the last element of list.\n",
    "\n",
    "3. insert()\n",
    "        This method will add the element to the desired position.\n",
    "\n",
    "4. remove()\n",
    "        This method will remove the first occurance of the element.\n",
    "\n",
    "5. count()\n",
    "        This method will give the count of the number of elements present in the list.\n",
    "        \n",
    "6. sort()\n",
    "        This method will sort the list in ascending order (increasing) .\n",
    "        To sort in descending (decreasing) order needed to pass the argument \"reverse=True\"."
   ]
  },
  {
   "cell_type": "code",
   "execution_count": 27,
   "id": "1a484f38",
   "metadata": {},
   "outputs": [
    {
     "name": "stdout",
     "output_type": "stream",
     "text": [
      "[23, 60, 45, 4, 80]\n"
     ]
    }
   ],
   "source": [
    "print(marks)"
   ]
  },
  {
   "cell_type": "code",
   "execution_count": 28,
   "id": "fc0c818c",
   "metadata": {},
   "outputs": [
    {
     "name": "stdout",
     "output_type": "stream",
     "text": [
      "[23, 60, 45, 4, 80]\n",
      "[23, 60, 45, 4]\n",
      "['Hamza', 23, 60, 45, 4]\n",
      "['Hamza', 23, 60, 45, 'Shubham', 4]\n"
     ]
    }
   ],
   "source": [
    "# append\n",
    "# marks.append(\"Raju\")\n",
    "print(marks)\n",
    "\n",
    "# pop\n",
    "marks.pop()\n",
    "print(marks)\n",
    "\n",
    "# insert(position, element)\n",
    "\n",
    "marks.insert(0, \"Hamza\")\n",
    "print(marks)\n",
    "\n",
    "marks.insert(4, \"Shubham\")\n",
    "print(marks)"
   ]
  },
  {
   "cell_type": "code",
   "execution_count": 29,
   "id": "f18d3876",
   "metadata": {},
   "outputs": [
    {
     "name": "stdout",
     "output_type": "stream",
     "text": [
      "['Hamza', 23, 60, 45, 'Shubham', 100, 4]\n"
     ]
    }
   ],
   "source": [
    "marks.insert(5, 100)\n",
    "print(marks)"
   ]
  },
  {
   "cell_type": "code",
   "execution_count": 30,
   "id": "6e204ec3",
   "metadata": {},
   "outputs": [
    {
     "name": "stdout",
     "output_type": "stream",
     "text": [
      "['Hamza', 23, 60, 45, 'Shubham', 100, 4]\n"
     ]
    }
   ],
   "source": [
    "# remove(\"Shubham\")\n",
    "\n",
    "# marks.remove(\"Shubham\")\n",
    "# marks.remove(\"Hamza\")\n",
    "# marks.remove(\"Hamza\")\n",
    "print(marks)\n"
   ]
  },
  {
   "cell_type": "code",
   "execution_count": 31,
   "id": "058448db",
   "metadata": {},
   "outputs": [
    {
     "name": "stdout",
     "output_type": "stream",
     "text": [
      "1\n"
     ]
    }
   ],
   "source": [
    "# Count(element)\n",
    "\n",
    "no_of_Hamza = marks.count(\"Hamza\")\n",
    "print(no_of_Hamza)"
   ]
  },
  {
   "cell_type": "code",
   "execution_count": 32,
   "id": "759a6cf8",
   "metadata": {},
   "outputs": [
    {
     "name": "stdout",
     "output_type": "stream",
     "text": [
      "[1, 23, 4, 5, 3, 334, 786, 754, 3, 3556, 43333333, 56788]\n",
      "[1, 3, 3, 4, 5, 23, 334, 754, 786, 3556, 56788, 43333333]\n",
      "[43333333, 56788, 3556, 786, 754, 334, 23, 5, 4, 3, 3, 1]\n"
     ]
    }
   ],
   "source": [
    "# sort()  ascending order\n",
    "marks = [1,23,4,5,3,334,786,754,3,3556,43333333,56788]\n",
    "print(marks)\n",
    "marks.sort()\n",
    "print(marks)\n",
    "\n",
    "# sort()\n",
    "marks.sort(reverse=True)\n",
    "print(marks)\n"
   ]
  },
  {
   "cell_type": "markdown",
   "id": "5193889f",
   "metadata": {},
   "source": [
    "# Set\n",
    "A set is a collection which is unordered, unchangeable*, and unindexed.\n",
    "\n",
    "* Note: Set items are unchangeable, but you can remove items and add new items."
   ]
  },
  {
   "cell_type": "code",
   "execution_count": 33,
   "id": "b4ae895f",
   "metadata": {},
   "outputs": [
    {
     "name": "stdout",
     "output_type": "stream",
     "text": [
      "{2, 3, 'hamaza'}\n"
     ]
    }
   ],
   "source": [
    "# sets\n",
    "\n",
    "mysets = {\"apple\", \"banana\", \"orange\"}\n",
    "\n",
    "#You can update the set by replacing with new content but not add anything any particular position.\n",
    "mysets = {1,2,3}\n",
    "\n",
    "# add() it will add items to the set\n",
    "\n",
    "mysets.add(\"hamaza\")\n",
    "\n",
    "# remove() method will remove the element which is provided as parameter.\n",
    "mysets.remove(1)\n",
    "\n",
    "print(mysets)"
   ]
  },
  {
   "cell_type": "code",
   "execution_count": 34,
   "id": "0c603e34",
   "metadata": {},
   "outputs": [
    {
     "name": "stdout",
     "output_type": "stream",
     "text": [
      "2\n",
      "3\n",
      "hamaza\n"
     ]
    }
   ],
   "source": [
    "# Access the set elements\n",
    "\n",
    "for element in mysets:\n",
    "    print(element)"
   ]
  },
  {
   "cell_type": "code",
   "execution_count": 35,
   "id": "9b6025df",
   "metadata": {},
   "outputs": [
    {
     "name": "stdout",
     "output_type": "stream",
     "text": [
      "set()\n",
      "<class 'set'>\n"
     ]
    }
   ],
   "source": [
    "# clear() method will remove all the elements from the list\n",
    "\n",
    "mysets.clear()\n",
    "print(mysets)\n",
    "print(type(mysets))"
   ]
  },
  {
   "cell_type": "markdown",
   "id": "0cd601e5",
   "metadata": {},
   "source": [
    "# Dictionaries\n",
    "A dictionary in Python is a collection of key-value pairs, where each unique key is mapped to a corresponding value. In other words, it is a mapping between a set of keys and values. Dictionaries are unordered, which means that the items have no index and do not have a specific order.\n",
    "\n",
    "Here's how you can create a dictionary in Python:"
   ]
  },
  {
   "cell_type": "code",
   "execution_count": 36,
   "id": "43555b0c",
   "metadata": {},
   "outputs": [
    {
     "name": "stdout",
     "output_type": "stream",
     "text": [
      "John\n",
      "30\n",
      "male\n"
     ]
    }
   ],
   "source": [
    "# Creating a dictionary \n",
    "person = {'name': 'John', 'age': 30, 'gender': 'male'}\n",
    "\n",
    "# Accessing values using keys\n",
    "print(person['name'])    # Output: 'John'\n",
    "print(person['age'])     # Output: 30\n",
    "print(person['gender'])  # Output: 'male'\n"
   ]
  },
  {
   "cell_type": "code",
   "execution_count": null,
   "id": "dbc5518a",
   "metadata": {},
   "outputs": [],
   "source": []
  },
  {
   "cell_type": "code",
   "execution_count": 37,
   "id": "1d80dedb",
   "metadata": {
    "scrolled": true
   },
   "outputs": [
    {
     "name": "stdout",
     "output_type": "stream",
     "text": [
      "{'name': 'VishaL', 'age': 30, 'gender': 'male'}\n",
      "VishaL\n",
      "{'name': 'VishaL', 'age': 24, 'gender': 'male'}\n",
      "{'name': 'VishaL', 'age': 24, 'gender': 'male', 'hair': 'black'}\n",
      "{'name': 'VishaL', 'age': 24, 'gender': 'male'}\n",
      "True\n",
      "False\n",
      "True\n",
      "Keys are: dict_keys(['name', 'age', 'gender'])\n",
      "Values are: dict_values(['VishaL', 24, 'male'])\n",
      "dict_items([('name', 'VishaL'), ('age', 24), ('gender', 'male')])\n"
     ]
    }
   ],
   "source": [
    "# You can also create a dictionary using the dict() constructor:\n",
    "\n",
    "# Creating a dictionary using dict() constructor\n",
    "person = dict(name='VishaL', age=30, gender='male')\n",
    "print(person)\n",
    "print(person['name'])\n",
    "\n",
    "# Updating age \n",
    "person['age'] = 24\n",
    "print(person)\n",
    "#  Adding a new key:value pair\n",
    "\n",
    "person['hair']='black'\n",
    "print(person)\n",
    "\n",
    "# removing a key:value pair\n",
    "person.pop('hair')\n",
    "print(person)\n",
    "\n",
    "# check if a key exists in the dictionary or not\n",
    "print(\"gender\" in person)\n",
    "print(\"hair\" in person)\n",
    "check = \"age\" in person\n",
    "print(check)\n",
    "\n",
    "# get list of all keys of a dictionary\n",
    "print(\"Keys are: \"+str(person.keys()))\n",
    "\n",
    "#  get list of all values of a dictionary\n",
    "print(\"Values are: \"+str(person.values()))\n",
    "\n",
    "# get list of all items of a dictionary\n",
    "print(person.items())"
   ]
  },
  {
   "cell_type": "markdown",
   "id": "d98e928e",
   "metadata": {},
   "source": [
    "### Important points\n",
    "\n",
    "Here are some of the key operations you can perform with dictionaries:\n",
    "\n",
    "1. Accessing values: You can access the value corresponding to a key using square brackets ([]) and the key.\n",
    "\n",
    "2. Updating values: You can update the value associated with a key by simply reassigning the new value to the key.\n",
    "\n",
    "3. Adding new key-value pairs: You can add a new key-value pair to a dictionary by simply assigning a value to a new key.\n",
    "\n",
    "4. Removing key-value pairs: You can remove a key-value pair from a dictionary using the del statement or the pop() method.\n",
    "\n",
    "5. Checking if a key exists: You can check if a key exists in a dictionary using the in keyword.\n",
    "\n",
    "6. Getting all keys: You can get a list of all keys in a dictionary using the keys() method.\n",
    "\n",
    "7. Getting all values: You can get a list of all values in a dictionary using the values() method.\n",
    "\n",
    "8. Getting all items: You can get a list of all key-value pairs in a dictionary using the items() method.\n",
    "\n",
    "Dictionaries are commonly used in Python for various purposes such as storing configuration data, working with JSON data, and many others. They are a fundamental data structure in Python and understanding them is important for any Python programmer.\n",
    "\n",
    "\n",
    "\n"
   ]
  },
  {
   "cell_type": "markdown",
   "id": "4515d648",
   "metadata": {},
   "source": [
    "# Control Flow \n",
    "Control flow refers to the order in which statements are executed in a program. Python provides several control flow statements that allow you to control the flow of execution of your program based on certain conditions.\n",
    "\n",
    "Here are the main control flow statements in Python:\n",
    "\n",
    "### if statements: \n",
    "An if statement allows you to execute a block of code only if a certain condition is met. The basic syntax of an if statement is as follows:\n",
    "\n",
    "<code>\n",
    "if condition:\n",
    "    # Code to be executed if the condition is True\n",
    "</code>\n",
    "\n",
    "You can also use an else clause to specify a block of code to be executed if the condition is False:\n",
    "\n",
    "<code>\n",
    "if condition:\n",
    "    # Code to be executed if the condition is True\n",
    "else:\n",
    "    # Code to be executed if the condition is False\n",
    "</code>\n",
    "\n",
    "And, you can use an elif clause to specify additional conditions to be checked:\n",
    "\n",
    "<code>\n",
    "if condition1:\n",
    "    # Code to be executed if condition1 is True\n",
    "elif condition2:\n",
    "    # Code to be executed if condition1 is False and condition2 is True\n",
    "else:\n",
    "    # Code to be executed if all conditions are False\n",
    "</code>   "
   ]
  },
  {
   "cell_type": "code",
   "execution_count": 55,
   "id": "98c9435b",
   "metadata": {},
   "outputs": [
    {
     "name": "stdout",
     "output_type": "stream",
     "text": [
      "10 is greater than 5\n"
     ]
    }
   ],
   "source": [
    "# Control flow\n",
    "# if - statment\n",
    "a = 10\n",
    "if a > 5:\n",
    "    print(str(a) + \" is greater than 5\")"
   ]
  },
  {
   "cell_type": "code",
   "execution_count": 54,
   "id": "901955ed",
   "metadata": {},
   "outputs": [
    {
     "name": "stdout",
     "output_type": "stream",
     "text": [
      "3 is less than 5\n",
      "Program execution successful!!!\n"
     ]
    }
   ],
   "source": [
    "# if-else\n",
    "a=3\n",
    "\n",
    "if a > 5:\n",
    "    print(str(a) + \" is greater than 5\")\n",
    "else:\n",
    "    print(str(a) + \" is less than 5\")\n",
    "    \n",
    "print(\"Program execution successful!!!\")"
   ]
  },
  {
   "cell_type": "code",
   "execution_count": 52,
   "id": "b17a011e",
   "metadata": {},
   "outputs": [
    {
     "name": "stdout",
     "output_type": "stream",
     "text": [
      "5 is equal to 5\n",
      "Program execution successful!!!\n"
     ]
    }
   ],
   "source": [
    "# if -elif\n",
    "a=5\n",
    "\n",
    "if a > 5:\n",
    "    print(str(a) + \" is greater than 5\")\n",
    "elif a == 5:\n",
    "    print(str(a) + \" is equal to 5\")\n",
    "else:\n",
    "    print(str(a) + \" is less than 5\")\n",
    "    \n",
    "print(\"Program execution successful!!!\")"
   ]
  },
  {
   "cell_type": "markdown",
   "id": "bed07ec9",
   "metadata": {},
   "source": [
    "# special operators\n",
    "    1) and\n",
    "        a) all true = true\n",
    "        b) any false = false\n",
    "    2) or\n",
    "        a) any true = true\n",
    "        b) all false = false"
   ]
  },
  {
   "cell_type": "code",
   "execution_count": 8,
   "id": "fdb3037e",
   "metadata": {},
   "outputs": [
    {
     "name": "stdout",
     "output_type": "stream",
     "text": [
      "12 is divisible by 3 and 2\n"
     ]
    }
   ],
   "source": [
    "num = 12\n",
    "\n",
    "if num%3 == 0 and num%2 == 0:\n",
    "    print(str(num)+\" is divisible by 3 and 2\")\n",
    "else:\n",
    "    print(str(num)+\" is not divisible by 3\")\n",
    "    "
   ]
  },
  {
   "cell_type": "code",
   "execution_count": 11,
   "id": "2bf28726",
   "metadata": {},
   "outputs": [
    {
     "name": "stdout",
     "output_type": "stream",
     "text": [
      "It is not divisible by 2 and 10.\n"
     ]
    }
   ],
   "source": [
    "num = 15\n",
    "\n",
    "if num%2 == 0 or num%10 == 0:\n",
    "    print(\"divisible by either 2 or 10\")\n",
    "else:\n",
    "    print(\"It is not divisible by 2 and 10.\")"
   ]
  },
  {
   "cell_type": "markdown",
   "id": "bec689fa",
   "metadata": {},
   "source": [
    "# Loops or Iterators"
   ]
  },
  {
   "cell_type": "markdown",
   "id": "ba14a7d0",
   "metadata": {},
   "source": [
    "### for loops:\n",
    "A for loop allows you to iterate over a sequence (such as a list, tuple, or string) and execute a block of code for each item in the sequence. The basic syntax of a for loop is as follows:\n",
    "\n",
    "<code>for item in sequence:\n",
    "    # Code to be executed for each item in the sequence\n",
    "</code>\n",
    "    \n",
    "### while loops: \n",
    "A while loop allows you to execute a block of code repeatedly as long as a certain condition is met. The basic syntax of a while loop is as follows:\n",
    "\n",
    "<code>while condition:\n",
    "    # Code to be executed while the condition is True\n",
    "</code>\n",
    "    \n",
    "### break and continue: \n",
    "The break statement allows you to exit a loop early, while the continue statement allows you to skip the current iteration of a loop and continue with the next iteration.\n",
    "\n",
    "These control flow statements allow you to add logic and decisions to your code and make it more flexible and powerful. Understanding how to use them is an essential part of programming in Python."
   ]
  },
  {
   "cell_type": "markdown",
   "id": "bb5e8c10",
   "metadata": {},
   "source": [
    "Functions:\n",
    "\n",
    "Defining and calling functions\n",
    "Function arguments\n",
    "Return statement\n",
    "Scope of variables"
   ]
  },
  {
   "cell_type": "code",
   "execution_count": null,
   "id": "da65b038",
   "metadata": {},
   "outputs": [],
   "source": []
  }
 ],
 "metadata": {
  "kernelspec": {
   "display_name": "Python 3 (ipykernel)",
   "language": "python",
   "name": "python3"
  },
  "language_info": {
   "codemirror_mode": {
    "name": "ipython",
    "version": 3
   },
   "file_extension": ".py",
   "mimetype": "text/x-python",
   "name": "python",
   "nbconvert_exporter": "python",
   "pygments_lexer": "ipython3",
   "version": "3.7.3"
  }
 },
 "nbformat": 4,
 "nbformat_minor": 5
}
